{
 "cells": [
  {
   "cell_type": "markdown",
   "metadata": {},
   "source": [
    "# Execução do modelo"
   ]
  },
  {
   "cell_type": "markdown",
   "metadata": {},
   "source": [
    "## Instalação das dependências"
   ]
  },
  {
   "cell_type": "code",
   "execution_count": null,
   "metadata": {
    "vscode": {
     "languageId": "shellscript"
    }
   },
   "outputs": [
    {
     "ename": "",
     "evalue": "",
     "output_type": "error",
     "traceback": [
      "\u001b[1;31mRunning cells with 'usr (Python 3.10.12)' requires the ipykernel package.\n",
      "\u001b[1;31mRun the following command to install 'ipykernel' into the Python environment. \n",
      "\u001b[1;31mCommand: '/bin/python3 -m pip install ipykernel -U --force-reinstall'"
     ]
    }
   ],
   "source": [
    "!pip install unsloth huggingface_hub"
   ]
  },
  {
   "cell_type": "code",
   "execution_count": null,
   "metadata": {},
   "outputs": [
    {
     "name": "stdout",
     "output_type": "stream",
     "text": [
      "Unexpected exception formatting exception. Falling back to standard exception\n"
     ]
    },
    {
     "name": "stderr",
     "output_type": "stream",
     "text": [
      "Traceback (most recent call last):\n",
      "  File \"/home/erfer/Documents/UFSC/INE5443_RP/Code/Computer-Vision/.venv/lib/python3.12/site-packages/IPython/core/interactiveshell.py\", line 3577, in run_code\n",
      "  File \"/tmp/ipykernel_32840/1584800579.py\", line 1, in <module>\n",
      "    from unsloth import FastVisionModel\n",
      "ModuleNotFoundError: No module named 'unsloth'\n",
      "\n",
      "During handling of the above exception, another exception occurred:\n",
      "\n",
      "Traceback (most recent call last):\n",
      "  File \"/home/erfer/Documents/UFSC/INE5443_RP/Code/Computer-Vision/.venv/lib/python3.12/site-packages/pygments/styles/__init__.py\", line 45, in get_style_by_name\n",
      "ModuleNotFoundError: No module named 'pygments.styles.default'\n",
      "\n",
      "During handling of the above exception, another exception occurred:\n",
      "\n",
      "Traceback (most recent call last):\n",
      "  File \"/home/erfer/Documents/UFSC/INE5443_RP/Code/Computer-Vision/.venv/lib/python3.12/site-packages/IPython/core/interactiveshell.py\", line 2168, in showtraceback\n",
      "  File \"/home/erfer/Documents/UFSC/INE5443_RP/Code/Computer-Vision/.venv/lib/python3.12/site-packages/IPython/core/ultratb.py\", line 1457, in structured_traceback\n",
      "  File \"/home/erfer/Documents/UFSC/INE5443_RP/Code/Computer-Vision/.venv/lib/python3.12/site-packages/IPython/core/ultratb.py\", line 1348, in structured_traceback\n",
      "  File \"/home/erfer/Documents/UFSC/INE5443_RP/Code/Computer-Vision/.venv/lib/python3.12/site-packages/IPython/core/ultratb.py\", line 1195, in structured_traceback\n",
      "  File \"/home/erfer/Documents/UFSC/INE5443_RP/Code/Computer-Vision/.venv/lib/python3.12/site-packages/IPython/core/ultratb.py\", line 1085, in format_exception_as_a_whole\n",
      "  File \"/home/erfer/Documents/UFSC/INE5443_RP/Code/Computer-Vision/.venv/lib/python3.12/site-packages/IPython/core/ultratb.py\", line 1136, in get_records\n",
      "  File \"/home/erfer/Documents/UFSC/INE5443_RP/Code/Computer-Vision/.venv/lib/python3.12/site-packages/pygments/styles/__init__.py\", line 47, in get_style_by_name\n",
      "pygments.util.ClassNotFound: Could not find style module 'pygments.styles.default', though it should be builtin.\n"
     ]
    }
   ],
   "source": [
    "from os import environ\n",
    "\n",
    "import torch\n",
    "\n",
    "for i in range(torch.cuda.device_count()):\n",
    "    total_memory = torch.cuda.get_device_properties(i).total_memory\n",
    "    reserved_memory = torch.cuda.memory_reserved(i)\n",
    "    allocated_memory = torch.cuda.memory_allocated(i)\n",
    "    free_memory = reserved_memory - allocated_memory\n",
    "\n",
    "    print(f'[GPU {i}] - Total: {total_memory}, Reserved: {reserved_memory}, Allocated: {allocated_memory}, Free: {free_memory}')\n",
    "\n",
    "device_id = int(input('Select a device: '))\n",
    "\n",
    "torch.cuda.set_device(device_id)\n",
    "\n",
    "print(f'Current GPU: {torch.cuda.current_device()}')"
   ]
  },
  {
   "cell_type": "code",
   "execution_count": null,
   "metadata": {},
   "outputs": [],
   "source": [
    "from os import getenv, mkdir\n",
    "from os.path import exists\n",
    "from dotenv import load_dotenv\n",
    "from huggingface_hub import login\n",
    "\n",
    "hf_token = None\n",
    "\n",
    "if not exists('../.env'):\n",
    "    hf_token = input('Enter your Hugging Face token: ')\n",
    "else:\n",
    "    load_dotenv(dotenv_path='../.env')\n",
    "    hf_token = getenv('HF_TOKEN')\n",
    "\n",
    "assert hf_token is not None, 'Invalid Hugging Face token'\n",
    "\n",
    "login(token=hf_token)"
   ]
  },
  {
   "cell_type": "code",
   "execution_count": null,
   "metadata": {},
   "outputs": [],
   "source": [
    "from datasets import load_dataset\n",
    "\n",
    "dataset = load_dataset('marmal88/skin_cancer', split='test')"
   ]
  },
  {
   "cell_type": "code",
   "execution_count": null,
   "metadata": {},
   "outputs": [],
   "source": [
    "from unsloth import FastVisionModel\n",
    "import torch\n",
    "\n",
    "model, tokenizer = FastVisionModel.from_pretrained(\n",
    "    'unsloth/Llama-3.2-11B-Vision-Instruct',\n",
    "    load_in_4bit = True,\n",
    "    use_gradient_checkpointing = 'unsloth',\n",
    ")"
   ]
  },
  {
   "cell_type": "code",
   "execution_count": null,
   "metadata": {},
   "outputs": [],
   "source": [
    "FastVisionModel.for_inference(model)\n",
    "\n",
    "image = dataset[0]['image']\n",
    "\n",
    "messages = [\n",
    "    {\n",
    "        'role': 'user',\n",
    "        'content': [\n",
    "            {'type': 'image'},\n",
    "            {'type': 'text', 'text': 'You are a model trained to identify skin lesions. Identify the skin disease in the image.'}\n",
    "        ]\n",
    "    }\n",
    "]\n",
    "\n",
    "input_text = tokenizer.apply_chat_template(messages, add_generation_prompt = True)\n",
    "\n",
    "inputs = tokenizer(\n",
    "    image,\n",
    "    input_text,\n",
    "    add_special_tokens = False,\n",
    "    return_tensors = 'pt',\n",
    ").to('cuda')\n",
    "\n",
    "from transformers import TextStreamer\n",
    "text_streamer = TextStreamer(tokenizer, skip_prompt = True)\n",
    "_ = model.generate(**inputs, streamer = text_streamer, max_new_tokens = 128,\n",
    "                   use_cache = True, temperature = 1.5, min_p = 0.1)"
   ]
  }
 ],
 "metadata": {
  "kernelspec": {
   "display_name": ".venv",
   "language": "python",
   "name": "python3"
  },
  "language_info": {
   "codemirror_mode": {
    "name": "ipython",
    "version": 3
   },
   "file_extension": ".py",
   "mimetype": "text/x-python",
   "name": "python",
   "nbconvert_exporter": "python",
   "pygments_lexer": "ipython3",
   "version": "3.12.7"
  }
 },
 "nbformat": 4,
 "nbformat_minor": 2
}
