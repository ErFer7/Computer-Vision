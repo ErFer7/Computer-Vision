{
 "cells": [
  {
   "cell_type": "markdown",
   "metadata": {},
   "source": [
    "# Fine-tuning com LoRA"
   ]
  },
  {
   "cell_type": "markdown",
   "metadata": {},
   "source": [
    "### Autenticação"
   ]
  },
  {
   "cell_type": "code",
   "execution_count": null,
   "metadata": {},
   "outputs": [],
   "source": [
    "from scripts.authentcation import authenticate_huggingface\n",
    "\n",
    "authenticate_huggingface()"
   ]
  },
  {
   "cell_type": "markdown",
   "metadata": {},
   "source": [
    "### Preparação dos dados"
   ]
  },
  {
   "cell_type": "code",
   "execution_count": null,
   "metadata": {},
   "outputs": [],
   "source": [
    "from datasets import load_dataset\n",
    "from scripts.data import generate_training_messages\n",
    "\n",
    "dataset = load_dataset('marmal88/skin_cancer', split='train')\n",
    "\n",
    "training_data_size = int(input('Enter the size of the training data: '))\n",
    "messages = generate_training_messages(dataset, training_data_size)"
   ]
  },
  {
   "cell_type": "markdown",
   "metadata": {},
   "source": [
    "### Inicialização do LLaMa 3.2"
   ]
  },
  {
   "cell_type": "code",
   "execution_count": null,
   "metadata": {},
   "outputs": [],
   "source": [
    "from unsloth import FastVisionModel\n",
    "import torch\n",
    "\n",
    "model, tokenizer = FastVisionModel.from_pretrained(\n",
    "    'unsloth/Llama-3.2-11B-Vision-Instruct',\n",
    "    load_in_4bit=False,\n",
    "    use_gradient_checkpointing='unsloth'\n",
    ")"
   ]
  },
  {
   "cell_type": "markdown",
   "metadata": {},
   "source": [
    "### Carregamento do modelo para treinamento com PEFT"
   ]
  },
  {
   "cell_type": "code",
   "execution_count": null,
   "metadata": {},
   "outputs": [],
   "source": [
    "model = FastVisionModel.get_peft_model(\n",
    "    model,\n",
    "    finetune_vision_layers     = True,\n",
    "    finetune_language_layers   = True,\n",
    "    finetune_attention_modules = True,\n",
    "    finetune_mlp_modules       = True,\n",
    "\n",
    "    r = 16,\n",
    "    lora_alpha = 16,\n",
    "    lora_dropout = 0.1,\n",
    "    bias = 'none',\n",
    "    random_state = 3407,\n",
    "    loftq_config = ['q_proj', 'k_proj', 'v_proj', 'o_proj', 'gate_proj', 'up_proj', 'down_proj'],\n",
    ")"
   ]
  },
  {
   "cell_type": "markdown",
   "metadata": {},
   "source": [
    "### Configuração de treinamento"
   ]
  },
  {
   "cell_type": "code",
   "execution_count": null,
   "metadata": {},
   "outputs": [],
   "source": [
    "from unsloth import is_bf16_supported\n",
    "from unsloth.trainer import UnslothVisionDataCollator\n",
    "from trl import SFTTrainer, SFTConfig\n",
    "from sklearn.model_selection import train_test_split\n",
    "\n",
    "train_messages, val_messages = train_test_split(\n",
    "    messages,\n",
    "    test_size=0.1,\n",
    "    random_state=3407\n",
    ")\n",
    "\n",
    "FastVisionModel.for_training(model)\n",
    "\n",
    "trainer = SFTTrainer(\n",
    "    model=model,\n",
    "    tokenizer=tokenizer,\n",
    "    data_collator=UnslothVisionDataCollator(model, tokenizer),\n",
    "    train_dataset=train_messages,\n",
    "    eval_dataset=val_messages,\n",
    "    args=SFTConfig(\n",
    "        per_device_train_batch_size=1,\n",
    "        gradient_accumulation_steps=16,\n",
    "        learning_rate=1e-4,\n",
    "        warmup_ratio=0.03,\n",
    "        num_train_epochs=5,\n",
    "        fp16=not is_bf16_supported(),\n",
    "        bf16=is_bf16_supported(),\n",
    "        lr_scheduler_type='cosine_with_restarts',\n",
    "        optim='adamw_torch',\n",
    "        weight_decay=0.01,\n",
    "        logging_steps=5,\n",
    "        save_steps=50,\n",
    "        eval_steps=50,\n",
    "        eval_strategy='steps',\n",
    "        gradient_checkpointing=True,\n",
    "        seed=3407,\n",
    "        output_dir='outputs',\n",
    "        report_to='tensorboard',\n",
    "        remove_unused_columns=False,\n",
    "        dataset_text_field='',\n",
    "        dataset_kwargs={'skip_prepare_dataset': True},\n",
    "        dataset_num_proc=4,\n",
    "        max_seq_length=2048\n",
    "    ),\n",
    ")"
   ]
  },
  {
   "cell_type": "markdown",
   "metadata": {},
   "source": [
    "### Treinamento"
   ]
  },
  {
   "cell_type": "code",
   "execution_count": null,
   "metadata": {},
   "outputs": [],
   "source": [
    "trainer_stats = trainer.train()"
   ]
  },
  {
   "cell_type": "markdown",
   "metadata": {},
   "source": [
    "### Salvamento"
   ]
  },
  {
   "cell_type": "code",
   "execution_count": null,
   "metadata": {},
   "outputs": [],
   "source": [
    "peft_model = trainer.model\n",
    "\n",
    "model.save_pretrained(f'weights/LLaMA_DERM_LoRA_{training_data_size}_11B')\n",
    "tokenizer.save_pretrained(f'weights/LLaMA_DERM_LoRA_{training_data_size}_11B')"
   ]
  }
 ],
 "metadata": {
  "kernelspec": {
   "display_name": ".venv",
   "language": "python",
   "name": "python3"
  },
  "language_info": {
   "codemirror_mode": {
    "name": "ipython",
    "version": 3
   },
   "file_extension": ".py",
   "mimetype": "text/x-python",
   "name": "python",
   "nbconvert_exporter": "python",
   "pygments_lexer": "ipython3",
   "version": "3.10.12"
  }
 },
 "nbformat": 4,
 "nbformat_minor": 2
}
